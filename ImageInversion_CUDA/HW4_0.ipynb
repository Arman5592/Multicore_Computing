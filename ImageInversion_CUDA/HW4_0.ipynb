{
  "nbformat": 4,
  "nbformat_minor": 0,
  "metadata": {
    "colab": {
      "name": "HW4_0.ipynb",
      "provenance": [],
      "collapsed_sections": []
    },
    "kernelspec": {
      "name": "python3",
      "display_name": "Python 3"
    },
    "language_info": {
      "name": "python"
    },
    "accelerator": "GPU",
    "gpuClass": "standard"
  },
  "cells": [
    {
      "cell_type": "markdown",
      "source": [
        "#Multicore Computing HW4\n",
        "#####MohammadArman Soleimani 98105835\n",
        "#####Farzam Zohdi-Nasab 9710????"
      ],
      "metadata": {
        "id": "OlwbRbcMKolG"
      }
    },
    {
      "cell_type": "markdown",
      "source": [
        "###Q1: Image inversion"
      ],
      "metadata": {
        "id": "nKN9vBLNLAbA"
      }
    },
    {
      "cell_type": "code",
      "execution_count": 1,
      "metadata": {
        "colab": {
          "base_uri": "https://localhost:8080/"
        },
        "id": "YSr1iDZr6AJS",
        "outputId": "1b5bde88-ca18-43f5-b2bc-d20c20ad3bea"
      },
      "outputs": [
        {
          "output_type": "stream",
          "name": "stdout",
          "text": [
            "Writing img_invert.cu\n"
          ]
        }
      ],
      "source": [
        "%%writefile img_invert.cu\n",
        "\n",
        "#include <cuda_runtime.h>\n",
        "#include <opencv2/core/core.hpp>\n",
        "#include <opencv2/highgui/highgui.hpp>\n",
        "#include <opencv2/imgproc/imgproc.hpp>\n",
        "\n",
        "#define tpb 128\n",
        "\n",
        "using namespace cv;\n",
        "\n",
        "__global__ void Inversion(unsigned char* in, unsigned char* out, int total_pixels) {\n",
        "\n",
        "\tint position = blockIdx.x * blockDim.x + threadIdx.x;\n",
        "\n",
        "\tif (position < total_pixels)\n",
        "\t{\n",
        "\t\tout[position] = 255-in[position];\n",
        "\t}  \n",
        "}\n",
        "\n",
        "\n",
        "int main()\n",
        "{\n",
        "\n",
        "\tMat img = imread(\"img.jpg\",IMREAD_COLOR);\n",
        "\tSize s = img.size();\n",
        "\tint w = s.width;\n",
        "\tint h = s.height;\n",
        "\tMat img_invert(h, w, CV_8UC3, Scalar(0,0,0));\n",
        "\n",
        "\tunsigned char* char_img = img.data;\n",
        "\tunsigned char* new_img = img_invert.data;\n",
        "\n",
        "\tint u_char_size = h * w * 3 * sizeof(unsigned char);\n",
        "\n",
        "\tunsigned char *ar_img, *ar_img_inv;\n",
        "\n",
        "\tint vec_size = h * w * 3;\n",
        "\tint block_count = (vec_size + tpb - 1)/tpb;\n",
        "\n",
        "\tcudaMalloc((void**) &ar_img, u_char_size);\n",
        "\tcudaMalloc((void**) &ar_img_inv, u_char_size);\n",
        "\n",
        "\tcudaMemcpy(ar_img, char_img, u_char_size, cudaMemcpyHostToDevice);\n",
        "\tcudaMemcpy(ar_img_inv, new_img, u_char_size, cudaMemcpyHostToDevice);\n",
        "\n",
        "\tInversion<<<block_count, tpb>>>  (ar_img, ar_img_inv, vec_size);\n",
        "\n",
        "\tcudaMemcpy(char_img, ar_img, u_char_size, cudaMemcpyDeviceToHost);\n",
        "\tcudaMemcpy(new_img, ar_img_inv, u_char_size, cudaMemcpyDeviceToHost);\n",
        "\n",
        "\tcudaFree(ar_img);\n",
        "\tcudaFree(ar_img_inv);\n",
        "   \n",
        "\tMat output = Mat(h, w, CV_8UC3, new_img);\n",
        "\timwrite(\"inverted.jpg\", output);\n",
        "}"
      ]
    },
    {
      "cell_type": "code",
      "source": [
        "%%shell\n",
        "nvcc img_invert.cu `pkg-config opencv --cflags --libs` -o img_invert"
      ],
      "metadata": {
        "colab": {
          "base_uri": "https://localhost:8080/"
        },
        "id": "JhZ3JdWF67st",
        "outputId": "bb3ac811-03c2-45b7-9c5a-d6a199bc9487"
      },
      "execution_count": 2,
      "outputs": [
        {
          "output_type": "execute_result",
          "data": {
            "text/plain": [
              ""
            ]
          },
          "metadata": {},
          "execution_count": 2
        }
      ]
    },
    {
      "cell_type": "code",
      "source": [
        "%%shell\n",
        "\n",
        "./img_invert"
      ],
      "metadata": {
        "colab": {
          "base_uri": "https://localhost:8080/"
        },
        "id": "Qr_dPzfT7-Je",
        "outputId": "adea16db-b09b-4aa7-b3d7-bbb9134975b1"
      },
      "execution_count": 4,
      "outputs": [
        {
          "output_type": "execute_result",
          "data": {
            "text/plain": [
              ""
            ]
          },
          "metadata": {},
          "execution_count": 4
        }
      ]
    },
    {
      "cell_type": "markdown",
      "source": [
        "###Q2: Green Screen"
      ],
      "metadata": {
        "id": "rOkSSKrfLMXE"
      }
    },
    {
      "cell_type": "code",
      "source": [
        "%%writefile gs.cu\n",
        "\n",
        "#include <cuda_runtime.h>\n",
        "#include <opencv2/core/core.hpp>\n",
        "#include <opencv2/highgui/highgui.hpp>\n",
        "#include <opencv2/imgproc/imgproc.hpp>\n",
        "\n",
        "#define tpb 128\n",
        "\n",
        "using namespace cv;\n",
        "\n",
        "__global__ void GreenScreen(unsigned char* in, unsigned char* out, unsigned char* bg, int total_pixels) {\n",
        "\n",
        "\tint r = (blockIdx.x * blockDim.x + threadIdx.x)*3;\n",
        "  int g = r+1;\n",
        "  int b = r+2;\n",
        "\n",
        "\tif (b < total_pixels)\n",
        "\t{\n",
        "\t\tint gd = 275 + in[r] + in[b];\n",
        "    int rd = 255 + in[g] + in[b];\n",
        "    int bd = 255 + in[r] + in[g];\n",
        "\n",
        "    if (gd < rd && gd < bd){\n",
        "      out[r] = bg[r];\n",
        "      out[g] = bg[g];\n",
        "      out[b] = bg[b];\n",
        "    }\n",
        "    else {\n",
        "      out[r] = in[r];\n",
        "      out[g] = in[g];\n",
        "      out[b] = in[b];\n",
        "    }\n",
        "\t}  \n",
        "}\n",
        "\n",
        "\n",
        "int main()\n",
        "{\n",
        "\n",
        "\tMat img = imread(\"d.jpg\",IMREAD_COLOR);\n",
        "\tSize s = img.size();\n",
        "\tint w = s.width;\n",
        "\tint h = s.height;\n",
        "\n",
        "  Mat bg = imread(\"bg.jpg\",IMREAD_COLOR);\n",
        "\tMat img_invert(h, w, CV_8UC3, Scalar(0,0,0));\n",
        "\n",
        "\tunsigned char* char_img = img.data;\n",
        "\tunsigned char* new_img = img_invert.data;\n",
        "  unsigned char* char_bg = bg.data;\n",
        "\n",
        "\tint u_char_size = h * w * 3 * sizeof(unsigned char);\n",
        "\n",
        "\tunsigned char *ar_img, *ar_img_inv, *ar_bg;\n",
        "\n",
        "\tint vec_size = h * w * 3;\n",
        "\tint block_count = ((vec_size + tpb - 1)/tpb)/3 + 1;\n",
        "\n",
        "\tcudaMalloc((void**) &ar_img, u_char_size);\n",
        "\tcudaMalloc((void**) &ar_img_inv, u_char_size);\n",
        "  cudaMalloc((void**) &ar_bg, u_char_size);\n",
        "\n",
        "\tcudaMemcpy(ar_img, char_img, u_char_size, cudaMemcpyHostToDevice);\n",
        "\tcudaMemcpy(ar_img_inv, new_img, u_char_size, cudaMemcpyHostToDevice);\n",
        "  cudaMemcpy(ar_bg, char_bg, u_char_size, cudaMemcpyHostToDevice);\n",
        "\n",
        "\tGreenScreen<<<block_count, tpb>>>  (ar_img, ar_img_inv, ar_bg, vec_size);\n",
        "\n",
        "\tcudaMemcpy(char_img, ar_img, u_char_size, cudaMemcpyDeviceToHost);\n",
        "\tcudaMemcpy(new_img, ar_img_inv, u_char_size, cudaMemcpyDeviceToHost);\n",
        "  cudaMemcpy(char_bg, ar_bg, u_char_size, cudaMemcpyDeviceToHost);\n",
        "\n",
        "\tcudaFree(ar_img);\n",
        "\tcudaFree(ar_img_inv);\n",
        "  cudaFree(ar_bg);\n",
        "   \n",
        "\tMat output = Mat(h, w, CV_8UC3, new_img);\n",
        "\timwrite(\"gs.jpg\", output);\n",
        "}"
      ],
      "metadata": {
        "colab": {
          "base_uri": "https://localhost:8080/"
        },
        "id": "3YEc35B9KkNx",
        "outputId": "af685183-78af-4b4a-a045-72727ba3d452"
      },
      "execution_count": 5,
      "outputs": [
        {
          "output_type": "stream",
          "name": "stdout",
          "text": [
            "Writing gs.cu\n"
          ]
        }
      ]
    },
    {
      "cell_type": "code",
      "source": [
        "%%shell\n",
        "nvcc gs.cu `pkg-config opencv --cflags --libs` -o gs"
      ],
      "metadata": {
        "colab": {
          "base_uri": "https://localhost:8080/"
        },
        "id": "Y-UfspERY4db",
        "outputId": "a41bafc8-c04e-4b7a-de08-b0996acec263"
      },
      "execution_count": 6,
      "outputs": [
        {
          "output_type": "execute_result",
          "data": {
            "text/plain": [
              ""
            ]
          },
          "metadata": {},
          "execution_count": 6
        }
      ]
    },
    {
      "cell_type": "code",
      "source": [
        "%%shell\n",
        "\n",
        "./gs"
      ],
      "metadata": {
        "colab": {
          "base_uri": "https://localhost:8080/"
        },
        "id": "pak6Z_jky13J",
        "outputId": "2ba5234c-18c1-4376-c4f4-ffeae0657a19"
      },
      "execution_count": 7,
      "outputs": [
        {
          "output_type": "execute_result",
          "data": {
            "text/plain": [
              ""
            ]
          },
          "metadata": {},
          "execution_count": 7
        }
      ]
    },
    {
      "cell_type": "code",
      "source": [
        "%%writefile sharp.cu\n",
        "\n",
        "#include <cuda_runtime.h>\n",
        "#include <opencv2/core/core.hpp>\n",
        "#include <opencv2/highgui/highgui.hpp>\n",
        "#include <opencv2/imgproc/imgproc.hpp>\n",
        "\n",
        "#define tpb 128\n",
        "\n",
        "using namespace cv;\n",
        "\n",
        "__global__ void Sharpen(unsigned char* in, unsigned char* out, int total_pixels, int w, int down, int up) {\n",
        "\n",
        "\tint i = blockIdx.x * blockDim.x + threadIdx.x;\n",
        "  \n",
        "  if (i > down && i < up){\n",
        "    if (i%w !=0 && i%w != w-1){\n",
        "      //find nearby positions\n",
        "      int up = i - 3*w;\n",
        "      int down = i + 3*w;\n",
        "      int left = i - 3;\n",
        "      int right = i + 3;\n",
        "\n",
        "      int tmp = 5*in[i]-in[up]-in[down]-in[left]-in[right];\n",
        "      if(tmp<0) tmp=0;\n",
        "      if(tmp>255) tmp=255;\n",
        "\n",
        "      out[i]=tmp;\n",
        "\n",
        "      //out[i]=in[i];\n",
        "    }\n",
        "    else {\n",
        "      out[i]=in[i];\n",
        "    }\n",
        "  }\n",
        "  else {\n",
        "    out[i]=in[i];\n",
        "  }\n",
        "  \n",
        "}\n",
        "\n",
        "\n",
        "int main()\n",
        "{\n",
        "\n",
        "\tMat img = imread(\"gs.jpg\",IMREAD_COLOR);\n",
        "\tSize s = img.size();\n",
        "\tint w = s.width;\n",
        "\tint h = s.height;\n",
        "\n",
        "\tMat img_invert(h, w, CV_8UC3, Scalar(0,0,0));\n",
        "\n",
        "\tunsigned char* char_img = img.data;\n",
        "\tunsigned char* new_img = img_invert.data;\n",
        "\n",
        "\tint u_char_size = h * w * 3 * sizeof(unsigned char);\n",
        "\n",
        "\tunsigned char *ar_img, *ar_img_inv;\n",
        "\n",
        "\tint vec_size = h * w * 3;\n",
        "\tint block_count = ((vec_size + tpb - 1)/tpb) + 1;\n",
        "\n",
        "\tcudaMalloc((void**) &ar_img, u_char_size);\n",
        "\tcudaMalloc((void**) &ar_img_inv, u_char_size);\n",
        "\n",
        "\tcudaMemcpy(ar_img, char_img, u_char_size, cudaMemcpyHostToDevice);\n",
        "\tcudaMemcpy(ar_img_inv, new_img, u_char_size, cudaMemcpyHostToDevice);\n",
        "\n",
        "  int down = 3*w;\n",
        "  int up = vec_size - 3*w;\n",
        "\n",
        "\tSharpen<<<block_count, tpb>>>  (ar_img, ar_img_inv, vec_size, w, down, up);\n",
        "\n",
        "\tcudaMemcpy(char_img, ar_img, u_char_size, cudaMemcpyDeviceToHost);\n",
        "\tcudaMemcpy(new_img, ar_img_inv, u_char_size, cudaMemcpyDeviceToHost);\n",
        "\n",
        "\tcudaFree(ar_img);\n",
        "\tcudaFree(ar_img_inv);\n",
        "   \n",
        "\tMat output = Mat(h, w, CV_8UC3, new_img);\n",
        "\timwrite(\"sharp.jpg\", output);\n",
        "}"
      ],
      "metadata": {
        "colab": {
          "base_uri": "https://localhost:8080/"
        },
        "id": "A-gJu2_SPbOi",
        "outputId": "35e1294e-6377-40a3-fa3b-77d072e08e3f"
      },
      "execution_count": 8,
      "outputs": [
        {
          "output_type": "stream",
          "name": "stdout",
          "text": [
            "Writing sharp.cu\n"
          ]
        }
      ]
    },
    {
      "cell_type": "code",
      "source": [
        "%%shell\n",
        "\n",
        "nvcc sharp.cu `pkg-config opencv --cflags --libs` -o sharp"
      ],
      "metadata": {
        "colab": {
          "base_uri": "https://localhost:8080/"
        },
        "id": "Xumhxt2_xV0r",
        "outputId": "71068f07-5987-4dbc-d511-c1bcea5fd530"
      },
      "execution_count": 9,
      "outputs": [
        {
          "output_type": "execute_result",
          "data": {
            "text/plain": [
              ""
            ]
          },
          "metadata": {},
          "execution_count": 9
        }
      ]
    },
    {
      "cell_type": "code",
      "source": [
        "%%shell\n",
        "\n",
        "./sharp"
      ],
      "metadata": {
        "colab": {
          "base_uri": "https://localhost:8080/"
        },
        "id": "z8JgP_Raxhm6",
        "outputId": "65a42be8-a904-47f9-ea02-2198f9526c0d"
      },
      "execution_count": 10,
      "outputs": [
        {
          "output_type": "execute_result",
          "data": {
            "text/plain": [
              ""
            ]
          },
          "metadata": {},
          "execution_count": 10
        }
      ]
    }
  ]
}