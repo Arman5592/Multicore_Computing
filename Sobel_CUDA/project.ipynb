{
  "nbformat": 4,
  "nbformat_minor": 0,
  "metadata": {
    "colab": {
      "name": "project.ipynb",
      "provenance": [],
      "collapsed_sections": []
    },
    "kernelspec": {
      "name": "python3",
      "display_name": "Python 3"
    },
    "language_info": {
      "name": "python"
    },
    "accelerator": "GPU",
    "gpuClass": "standard"
  },
  "cells": [
    {
      "cell_type": "markdown",
      "source": [
        "#Multicore Computing HW4\n",
        "#####MohammadArman Soleimani 98105835\n",
        "#####Farzam Zohdi-Nasab 9710????"
      ],
      "metadata": {
        "id": "OlwbRbcMKolG"
      }
    },
    {
      "cell_type": "markdown",
      "source": [
        "###Q1: Image inversion"
      ],
      "metadata": {
        "id": "nKN9vBLNLAbA"
      }
    },
    {
      "cell_type": "code",
      "execution_count": null,
      "metadata": {
        "colab": {
          "base_uri": "https://localhost:8080/"
        },
        "id": "YSr1iDZr6AJS",
        "outputId": "aaf1c0b0-55c0-480d-aae4-9c2cdf65a19b"
      },
      "outputs": [
        {
          "output_type": "stream",
          "name": "stdout",
          "text": [
            "Overwriting img_invert.cu\n"
          ]
        }
      ],
      "source": [
        "%%writefile img_invert.cu\n",
        "\n",
        "#include <cuda_runtime.h>\n",
        "#include <opencv2/core/core.hpp>\n",
        "#include <opencv2/highgui/highgui.hpp>\n",
        "#include <opencv2/imgproc/imgproc.hpp>\n",
        "\n",
        "#define tpb 128\n",
        "\n",
        "using namespace cv;\n",
        "\n",
        "__global__ void Inversion(unsigned char* in, unsigned char* out, int total_pixels) {\n",
        "\n",
        "\tint position = blockIdx.x * blockDim.x + threadIdx.x;\n",
        "\n",
        "\tif (position < total_pixels)\n",
        "\t{\n",
        "\t\tout[position] = 255-in[position];\n",
        "\t}  \n",
        "}\n",
        "\n",
        "\n",
        "int main()\n",
        "{\n",
        "\n",
        "\tMat img = imread(\"img.jpg\",IMREAD_COLOR);\n",
        "\tSize s = img.size();\n",
        "\tint w = s.width;\n",
        "\tint h = s.height;\n",
        "\tMat img_invert(h, w, CV_8UC3, Scalar(0,0,0));\n",
        "\n",
        "\tunsigned char* char_img = img.data;\n",
        "\tunsigned char* new_img = img_invert.data;\n",
        "\n",
        "\tint u_char_size = h * w * 3 * sizeof(unsigned char);\n",
        "\n",
        "\tunsigned char *ar_img, *ar_img_inv;\n",
        "\n",
        "\tint vec_size = h * w * 3;\n",
        "\tint block_count = (vec_size + tpb - 1)/tpb;\n",
        "\n",
        "\tcudaMalloc((void**) &ar_img, u_char_size);\n",
        "\tcudaMalloc((void**) &ar_img_inv, u_char_size);\n",
        "\n",
        "\tcudaMemcpy(ar_img, char_img, u_char_size, cudaMemcpyHostToDevice);\n",
        "\tcudaMemcpy(ar_img_inv, new_img, u_char_size, cudaMemcpyHostToDevice);\n",
        "\n",
        "\tInversion<<<block_count, tpb>>>  (ar_img, ar_img_inv, vec_size);\n",
        "\n",
        "\tcudaMemcpy(char_img, ar_img, u_char_size, cudaMemcpyDeviceToHost);\n",
        "\tcudaMemcpy(new_img, ar_img_inv, u_char_size, cudaMemcpyDeviceToHost);\n",
        "\n",
        "\tcudaFree(ar_img);\n",
        "\tcudaFree(ar_img_inv);\n",
        "   \n",
        "\tMat output = Mat(h, w, CV_8UC3, new_img);\n",
        "\timwrite(\"inverted.jpg\", output);\n",
        "}"
      ]
    },
    {
      "cell_type": "code",
      "source": [
        "%%shell\n",
        "nvcc img_invert.cu `pkg-config opencv --cflags --libs` -o img_invert"
      ],
      "metadata": {
        "colab": {
          "base_uri": "https://localhost:8080/"
        },
        "id": "JhZ3JdWF67st",
        "outputId": "9e65e175-376f-432d-b85e-d6f68d8d5d0e"
      },
      "execution_count": null,
      "outputs": [
        {
          "output_type": "execute_result",
          "data": {
            "text/plain": [
              ""
            ]
          },
          "metadata": {},
          "execution_count": 5
        }
      ]
    },
    {
      "cell_type": "code",
      "source": [
        "%%shell\n",
        "\n",
        "./img_invert"
      ],
      "metadata": {
        "colab": {
          "base_uri": "https://localhost:8080/"
        },
        "id": "Qr_dPzfT7-Je",
        "outputId": "f8e25d25-5f85-4473-f118-df0fa4fae08f"
      },
      "execution_count": null,
      "outputs": [
        {
          "output_type": "execute_result",
          "data": {
            "text/plain": [
              ""
            ]
          },
          "metadata": {},
          "execution_count": 6
        }
      ]
    },
    {
      "cell_type": "markdown",
      "source": [
        "###Q2: Green Screen"
      ],
      "metadata": {
        "id": "rOkSSKrfLMXE"
      }
    },
    {
      "cell_type": "code",
      "source": [
        "%%writefile gs.cu\n",
        "\n",
        "#include <cuda_runtime.h>\n",
        "#include <opencv2/core/core.hpp>\n",
        "#include <opencv2/highgui/highgui.hpp>\n",
        "#include <opencv2/imgproc/imgproc.hpp>\n",
        "\n",
        "#define tpb 128\n",
        "\n",
        "using namespace cv;\n",
        "\n",
        "__global__ void GreenScreen(unsigned char* in, unsigned char* out, unsigned char* bg, int total_pixels) {\n",
        "\n",
        "\tint r = (blockIdx.x * blockDim.x + threadIdx.x)*3;\n",
        "  int g = r+1;\n",
        "  int b = r+2;\n",
        "\n",
        "\tif (b < total_pixels)\n",
        "\t{\n",
        "\t\tint gd = 275 + in[r] + in[b];\n",
        "    int rd = 255 + in[g] + in[b];\n",
        "    int bd = 255 + in[r] + in[g];\n",
        "\n",
        "    if (gd < rd && gd < bd){\n",
        "      out[r] = bg[r];\n",
        "      out[g] = bg[g];\n",
        "      out[b] = bg[b];\n",
        "    }\n",
        "    else {\n",
        "      out[r] = in[r];\n",
        "      out[g] = in[g];\n",
        "      out[b] = in[b];\n",
        "    }\n",
        "\t}  \n",
        "}\n",
        "\n",
        "\n",
        "int main()\n",
        "{\n",
        "\n",
        "\tMat img = imread(\"d.jpg\",IMREAD_COLOR);\n",
        "\tSize s = img.size();\n",
        "\tint w = s.width;\n",
        "\tint h = s.height;\n",
        "\n",
        "  Mat bg = imread(\"bg.jpg\",IMREAD_COLOR);\n",
        "\tMat img_invert(h, w, CV_8UC3, Scalar(0,0,0));\n",
        "\n",
        "\tunsigned char* char_img = img.data;\n",
        "\tunsigned char* new_img = img_invert.data;\n",
        "  unsigned char* char_bg = bg.data;\n",
        "\n",
        "\tint u_char_size = h * w * 3 * sizeof(unsigned char);\n",
        "\n",
        "\tunsigned char *ar_img, *ar_img_inv, *ar_bg;\n",
        "\n",
        "\tint vec_size = h * w * 3;\n",
        "\tint block_count = ((vec_size + tpb - 1)/tpb)/3 + 1;\n",
        "\n",
        "\tcudaMalloc((void**) &ar_img, u_char_size);\n",
        "\tcudaMalloc((void**) &ar_img_inv, u_char_size);\n",
        "  cudaMalloc((void**) &ar_bg, u_char_size);\n",
        "\n",
        "\tcudaMemcpy(ar_img, char_img, u_char_size, cudaMemcpyHostToDevice);\n",
        "\tcudaMemcpy(ar_img_inv, new_img, u_char_size, cudaMemcpyHostToDevice);\n",
        "  cudaMemcpy(ar_bg, char_bg, u_char_size, cudaMemcpyHostToDevice);\n",
        "\n",
        "\tGreenScreen<<<block_count, tpb>>>  (ar_img, ar_img_inv, ar_bg, vec_size);\n",
        "\n",
        "\tcudaMemcpy(char_img, ar_img, u_char_size, cudaMemcpyDeviceToHost);\n",
        "\tcudaMemcpy(new_img, ar_img_inv, u_char_size, cudaMemcpyDeviceToHost);\n",
        "  cudaMemcpy(char_bg, ar_bg, u_char_size, cudaMemcpyDeviceToHost);\n",
        "\n",
        "\tcudaFree(ar_img);\n",
        "\tcudaFree(ar_img_inv);\n",
        "  cudaFree(ar_bg);\n",
        "   \n",
        "\tMat output = Mat(h, w, CV_8UC3, new_img);\n",
        "\timwrite(\"gs.jpg\", output);\n",
        "}"
      ],
      "metadata": {
        "colab": {
          "base_uri": "https://localhost:8080/"
        },
        "id": "3YEc35B9KkNx",
        "outputId": "66a657aa-d799-47c1-a440-6acc20c83620"
      },
      "execution_count": null,
      "outputs": [
        {
          "output_type": "stream",
          "name": "stdout",
          "text": [
            "Writing gs.cu\n"
          ]
        }
      ]
    },
    {
      "cell_type": "code",
      "source": [
        "%%shell\n",
        "nvcc gs.cu `pkg-config opencv --cflags --libs` -o gs"
      ],
      "metadata": {
        "colab": {
          "base_uri": "https://localhost:8080/"
        },
        "id": "Y-UfspERY4db",
        "outputId": "3c273e6e-bd91-42bd-fa55-07aaf19c4213"
      },
      "execution_count": null,
      "outputs": [
        {
          "output_type": "execute_result",
          "data": {
            "text/plain": [
              ""
            ]
          },
          "metadata": {},
          "execution_count": 3
        }
      ]
    },
    {
      "cell_type": "code",
      "source": [
        "%%shell\n",
        "\n",
        "./gs"
      ],
      "metadata": {
        "colab": {
          "base_uri": "https://localhost:8080/"
        },
        "id": "pak6Z_jky13J",
        "outputId": "d5eea723-ed4c-494b-b3f8-cff8bbddac60"
      },
      "execution_count": null,
      "outputs": [
        {
          "output_type": "execute_result",
          "data": {
            "text/plain": [
              ""
            ]
          },
          "metadata": {},
          "execution_count": 4
        }
      ]
    },
    {
      "cell_type": "code",
      "source": [
        "%%writefile sharp.cu\n",
        "\n",
        "#include <cuda_runtime.h>\n",
        "#include <opencv2/core/core.hpp>\n",
        "#include <opencv2/highgui/highgui.hpp>\n",
        "#include <opencv2/imgproc/imgproc.hpp>\n",
        "\n",
        "#define tpb 128\n",
        "\n",
        "using namespace cv;\n",
        "\n",
        "__global__ void Sharpen(unsigned char* in, unsigned char* out, int total_pixels, int w, int down, int up) {\n",
        "\n",
        "\tint i = blockIdx.x * blockDim.x + threadIdx.x;\n",
        "  \n",
        "  if (i > down && i < up){\n",
        "    int rem = i%w;\n",
        "    if (rem > 2 && rem < w-3){\n",
        "      //find nearby positions\n",
        "      int up = i - w;\n",
        "      int down = i + w;\n",
        "      int left = i - 3;\n",
        "      int right = i + 3;\n",
        "\n",
        "      int tmp = 5*in[i]-in[up]-in[down]-in[left]-in[right];\n",
        "      if(tmp<0) tmp=0;\n",
        "      if(tmp>255) tmp=255;\n",
        "\n",
        "      out[i]=tmp;\n",
        "    }\n",
        "    else {\n",
        "      out[i]=in[i];\n",
        "    }\n",
        "  }\n",
        "  else {\n",
        "    out[i]=in[i];\n",
        "  }\n",
        "  \n",
        "}\n",
        "\n",
        "\n",
        "int main()\n",
        "{\n",
        "\n",
        "\tMat img = imread(\"gs.jpg\",IMREAD_COLOR);\n",
        "\tSize s = img.size();\n",
        "\tint w = s.width;\n",
        "\tint h = s.height;\n",
        "\n",
        "\tMat img_invert(h, w, CV_8UC3, Scalar(0,0,0));\n",
        "\n",
        "\tunsigned char* char_img = img.data;\n",
        "\tunsigned char* new_img = img_invert.data;\n",
        "\n",
        "\tint u_char_size = h * w * 3 * sizeof(unsigned char);\n",
        "\n",
        "\tunsigned char *ar_img, *ar_img_inv;\n",
        "\n",
        "\tint vec_size = h * w * 3;\n",
        "\tint block_count = ((vec_size + tpb - 1)/tpb) + 1;\n",
        "\n",
        "\tcudaMalloc((void**) &ar_img, u_char_size);\n",
        "\tcudaMalloc((void**) &ar_img_inv, u_char_size);\n",
        "\n",
        "\tcudaMemcpy(ar_img, char_img, u_char_size, cudaMemcpyHostToDevice);\n",
        "\tcudaMemcpy(ar_img_inv, new_img, u_char_size, cudaMemcpyHostToDevice);\n",
        "\n",
        "  int down = 3*w;\n",
        "  int up = vec_size - 3*w;\n",
        "\n",
        "\tSharpen<<<block_count, tpb>>>  (ar_img, ar_img_inv, vec_size, 3*w, down, up);\n",
        "\n",
        "\tcudaMemcpy(char_img, ar_img, u_char_size, cudaMemcpyDeviceToHost);\n",
        "\tcudaMemcpy(new_img, ar_img_inv, u_char_size, cudaMemcpyDeviceToHost);\n",
        "\n",
        "\tcudaFree(ar_img);\n",
        "\tcudaFree(ar_img_inv);\n",
        "   \n",
        "\tMat output = Mat(h, w, CV_8UC3, new_img);\n",
        "\timwrite(\"sharp.jpg\", output);\n",
        "}"
      ],
      "metadata": {
        "colab": {
          "base_uri": "https://localhost:8080/"
        },
        "id": "A-gJu2_SPbOi",
        "outputId": "26c84bd7-7385-4d67-f1da-44ac8c569f0d"
      },
      "execution_count": null,
      "outputs": [
        {
          "output_type": "stream",
          "name": "stdout",
          "text": [
            "Writing sharp.cu\n"
          ]
        }
      ]
    },
    {
      "cell_type": "code",
      "source": [
        "%%shell\n",
        "\n",
        "nvcc sharp.cu `pkg-config opencv --cflags --libs` -o sharp"
      ],
      "metadata": {
        "colab": {
          "base_uri": "https://localhost:8080/"
        },
        "id": "Xumhxt2_xV0r",
        "outputId": "0e2cf4d9-10cc-4302-b058-1f93623bb60b"
      },
      "execution_count": null,
      "outputs": [
        {
          "output_type": "execute_result",
          "data": {
            "text/plain": [
              ""
            ]
          },
          "metadata": {},
          "execution_count": 5
        }
      ]
    },
    {
      "cell_type": "code",
      "source": [
        "%%shell\n",
        "\n",
        "./sharp"
      ],
      "metadata": {
        "colab": {
          "base_uri": "https://localhost:8080/"
        },
        "id": "z8JgP_Raxhm6",
        "outputId": "b2361f30-1574-43e4-ff53-ebb672c50ca0"
      },
      "execution_count": null,
      "outputs": [
        {
          "output_type": "execute_result",
          "data": {
            "text/plain": [
              ""
            ]
          },
          "metadata": {},
          "execution_count": 6
        }
      ]
    },
    {
      "cell_type": "code",
      "source": [
        "%%writefile sobel.cu\n",
        "\n",
        "#include <stdio.h>\n",
        "#include <iostream>\n",
        "#include <time.h>\n",
        "#include <cuda_runtime.h>\n",
        "#include <opencv2/core/core.hpp>\n",
        "#include <opencv2/highgui/highgui.hpp>\n",
        "#include <opencv2/imgproc/imgproc.hpp>\n",
        "\n",
        "#define tpb 128\n",
        "\n",
        "using namespace cv;\n",
        "using namespace std;\n",
        "\n",
        "__global__ void Sobel(unsigned char* in, unsigned char* out, int total_pixels, int w, int down, int up) {\n",
        "\n",
        "\tint i = blockIdx.x * blockDim.x + threadIdx.x;\n",
        "  \n",
        "  if (i > down && i < up){\n",
        "    int rem = i%w;\n",
        "    if (rem > 2 && rem < w-3){\n",
        "      //find nearby positions\n",
        "      int up = i - w;\n",
        "      int down = i + w;\n",
        "      int left = i - 3;\n",
        "      int right = i + 3;\n",
        "      int upleft = i - w - 3;\n",
        "      int upright = i - w + 3;\n",
        "      int downleft = i + w - 3;\n",
        "      int downright = i + w + 3;\n",
        "\n",
        "      int tmp1 = -in[upleft] + in[upright] - 2*in[left] + 2*in[right] - in[downleft] + in[downright];\n",
        "      if(tmp1<0) tmp1=0;\n",
        "      if(tmp1>255) tmp1=255;\n",
        "\n",
        "      int tmp2 = in[upleft] + 2*in[up] + in[upright] - in[downleft] - 2*in[down] - in[downright];\n",
        "      if(tmp2<0) tmp2=0;\n",
        "      if(tmp2>255) tmp2=255;\n",
        "\n",
        "      out[i]=tmp1 + tmp2;\n",
        "\n",
        "    }\n",
        "    else {\n",
        "      out[i]=in[i];\n",
        "    }\n",
        "  }\n",
        "  else {\n",
        "    out[i]=in[i];\n",
        "  }\n",
        "  \n",
        "}\n",
        "\n",
        "\n",
        "int main()\n",
        "{\n",
        "  clock_t start, stop;\n",
        "  string imname;\n",
        "\tcout << \"Enter image name:\";\n",
        "\tgetline (cin, imname);\n",
        "\n",
        "\tMat img = imread(imname,IMREAD_COLOR);\n",
        "\tSize s = img.size();\n",
        "\tint w = s.width;\n",
        "\tint h = s.height;\n",
        "\n",
        "\tMat img_sobel(h, w, CV_8UC3, Scalar(0,0,0));\n",
        "\n",
        "\tunsigned char* char_img = img.data;\n",
        "\tunsigned char* new_img = img_sobel.data;\n",
        "\n",
        "\tint u_char_size = h * w * 3 * sizeof(unsigned char);\n",
        "\n",
        "\tunsigned char *ar_img, *ar_img_inv;\n",
        "\n",
        "\tint vec_size = h * w * 3;\n",
        "\tint block_count = ((vec_size + tpb - 1)/tpb) + 1;\n",
        "\n",
        "\tcudaMalloc((void**) &ar_img, u_char_size);\n",
        "\tcudaMalloc((void**) &ar_img_inv, u_char_size);\n",
        "\n",
        "\tcudaMemcpy(ar_img, char_img, u_char_size, cudaMemcpyHostToDevice);\n",
        "\tcudaMemcpy(ar_img_inv, new_img, u_char_size, cudaMemcpyHostToDevice);\n",
        "\n",
        "  int down = 3*w;\n",
        "  int up = vec_size - 3*w;\n",
        "\n",
        "  start = clock();\n",
        "\tSobel<<<block_count, tpb>>>  (ar_img, ar_img_inv, vec_size, 3*w, down, up);\n",
        "  stop = clock();\n",
        "\n",
        "\tcudaMemcpy(char_img, ar_img, u_char_size, cudaMemcpyDeviceToHost);\n",
        "\tcudaMemcpy(new_img, ar_img_inv, u_char_size, cudaMemcpyDeviceToHost);\n",
        "\n",
        "\tcudaFree(ar_img);\n",
        "\tcudaFree(ar_img_inv);\n",
        "  \n",
        "  cout << \"Enter output name:\";\n",
        "\tgetline (cin, imname);\n",
        "\tMat output = Mat(h, w, CV_8UC3, new_img);\n",
        "\timwrite(imname, output);\n",
        "  cout << stop - start;\n",
        "}"
      ],
      "metadata": {
        "id": "5FJohHC5H391",
        "colab": {
          "base_uri": "https://localhost:8080/"
        },
        "outputId": "95b59e3b-d93a-470e-bd7d-a5ac75b41326"
      },
      "execution_count": 13,
      "outputs": [
        {
          "output_type": "stream",
          "name": "stdout",
          "text": [
            "Writing sobel.cu\n"
          ]
        }
      ]
    },
    {
      "cell_type": "code",
      "source": [
        "%%shell\n",
        "\n",
        "nvcc sobel.cu `pkg-config opencv --cflags --libs` -o sobel"
      ],
      "metadata": {
        "colab": {
          "base_uri": "https://localhost:8080/"
        },
        "id": "1p-mxwhSL5Up",
        "outputId": "1bf78893-b804-46d0-9904-47ca51759940"
      },
      "execution_count": null,
      "outputs": [
        {
          "output_type": "execute_result",
          "data": {
            "text/plain": [
              ""
            ]
          },
          "metadata": {},
          "execution_count": 5
        }
      ]
    },
    {
      "cell_type": "code",
      "source": [
        "%%shell\n",
        "\n",
        "./sobel"
      ],
      "metadata": {
        "colab": {
          "base_uri": "https://localhost:8080/"
        },
        "id": "pp8BuAQPMGyO",
        "outputId": "1c42e1ee-8b3a-40f3-c7ac-907791b39587"
      },
      "execution_count": null,
      "outputs": [
        {
          "output_type": "stream",
          "name": "stdout",
          "text": [
            "Enter image name:911.jpg\n",
            "Enter output name:out.jpg\n",
            "30"
          ]
        },
        {
          "output_type": "execute_result",
          "data": {
            "text/plain": [
              ""
            ]
          },
          "metadata": {},
          "execution_count": 6
        }
      ]
    },
    {
      "cell_type": "code",
      "source": [
        "%%writefile brighten.cu\n",
        "\n",
        "#include <stdio.h>\n",
        "#include <iostream>\n",
        "#include <cuda_runtime.h>\n",
        "#include <opencv2/core/core.hpp>\n",
        "#include <opencv2/highgui/highgui.hpp>\n",
        "#include <opencv2/imgproc/imgproc.hpp>\n",
        "\n",
        "#define tpb 128\n",
        "\n",
        "using namespace cv;\n",
        "using namespace std;\n",
        "\n",
        "__global__ void Brighten(unsigned char* in, unsigned char* out, int total_pixels, int b) {\n",
        "\n",
        "\tint position = blockIdx.x * blockDim.x + threadIdx.x;\n",
        "\n",
        "\tif (position < total_pixels)\n",
        "\t{\n",
        "    int tmp = in[position] + b;\n",
        "    if (tmp<0)  tmp=0;\n",
        "    if(tmp>255) tmp=255;\n",
        "\t\tout[position] = tmp;\n",
        "\t}  \n",
        "}\n",
        "\n",
        "\n",
        "int main()\n",
        "{\n",
        "\n",
        "  string imname;\n",
        "\tcout << \"Enter image name:\";\n",
        "\tgetline (cin, imname);\n",
        "\n",
        "  int b;\n",
        "  char trash;\n",
        "\tcout << \"Enter brightness value:\";\n",
        "\tscanf(\"%d\", &b);\n",
        "  scanf(\"%c\", &trash);\n",
        "\n",
        "\tMat img = imread(imname,IMREAD_COLOR);\n",
        "\tSize s = img.size();\n",
        "\tint w = s.width;\n",
        "\tint h = s.height;\n",
        "\tMat img_invert(h, w, CV_8UC3, Scalar(0,0,0));\n",
        "\n",
        "\tunsigned char* char_img = img.data;\n",
        "\tunsigned char* new_img = img_invert.data;\n",
        "\n",
        "\tint u_char_size = h * w * 3 * sizeof(unsigned char);\n",
        "\n",
        "\tunsigned char *ar_img, *ar_img_inv;\n",
        "\n",
        "\tint vec_size = h * w * 3;\n",
        "\tint block_count = (vec_size + tpb - 1)/tpb;\n",
        "\n",
        "\tcudaMalloc((void**) &ar_img, u_char_size);\n",
        "\tcudaMalloc((void**) &ar_img_inv, u_char_size);\n",
        "\n",
        "\tcudaMemcpy(ar_img, char_img, u_char_size, cudaMemcpyHostToDevice);\n",
        "\tcudaMemcpy(ar_img_inv, new_img, u_char_size, cudaMemcpyHostToDevice);\n",
        "\n",
        "\tBrighten<<<block_count, tpb>>>  (ar_img, ar_img_inv, vec_size, b);\n",
        "\n",
        "\tcudaMemcpy(char_img, ar_img, u_char_size, cudaMemcpyDeviceToHost);\n",
        "\tcudaMemcpy(new_img, ar_img_inv, u_char_size, cudaMemcpyDeviceToHost);\n",
        "\n",
        "\tcudaFree(ar_img);\n",
        "\tcudaFree(ar_img_inv);\n",
        "   \n",
        "\tcout << \"Enter output name:\";\n",
        "\tgetline (cin, imname);\n",
        "\tMat output = Mat(h, w, CV_8UC3, new_img);\n",
        "\timwrite(imname, output);\n",
        "}"
      ],
      "metadata": {
        "colab": {
          "base_uri": "https://localhost:8080/"
        },
        "id": "ov34E7Axr8nx",
        "outputId": "35b612f5-260f-4be7-869a-2008c4923aaf"
      },
      "execution_count": 12,
      "outputs": [
        {
          "output_type": "stream",
          "name": "stdout",
          "text": [
            "Overwriting brighten.cu\n"
          ]
        }
      ]
    },
    {
      "cell_type": "code",
      "source": [
        "%%shell\n",
        "\n",
        "nvcc brighten.cu `pkg-config opencv --cflags --libs` -o brighten"
      ],
      "metadata": {
        "colab": {
          "base_uri": "https://localhost:8080/"
        },
        "id": "MuJjm-ys2CLp",
        "outputId": "29defb09-a60b-4c84-b0f7-9b627f3ab699"
      },
      "execution_count": 9,
      "outputs": [
        {
          "output_type": "execute_result",
          "data": {
            "text/plain": [
              ""
            ]
          },
          "metadata": {},
          "execution_count": 9
        }
      ]
    },
    {
      "cell_type": "code",
      "source": [
        "%%shell\n",
        "./brighten"
      ],
      "metadata": {
        "colab": {
          "base_uri": "https://localhost:8080/"
        },
        "id": "G3AxEGPW2Wb2",
        "outputId": "0a1cfdcd-f8e3-4604-a6d5-5d78d4e62789"
      },
      "execution_count": 11,
      "outputs": [
        {
          "output_type": "stream",
          "name": "stdout",
          "text": [
            "Enter image name:d.jpg\n",
            "Enter brightness value:20\n",
            "Enter output name:a.jpg\n"
          ]
        },
        {
          "output_type": "execute_result",
          "data": {
            "text/plain": [
              ""
            ]
          },
          "metadata": {},
          "execution_count": 11
        }
      ]
    },
    {
      "cell_type": "code",
      "source": [
        "%%writefile thresh.cu\n",
        "\n",
        "#include <stdio.h>\n",
        "#include <iostream>\n",
        "#include <cuda_runtime.h>\n",
        "#include <opencv2/core/core.hpp>\n",
        "#include <opencv2/highgui/highgui.hpp>\n",
        "#include <opencv2/imgproc/imgproc.hpp>\n",
        "\n",
        "#define tpb 128\n",
        "\n",
        "using namespace cv;\n",
        "using namespace std;\n",
        "\n",
        "__global__ void Threshold(unsigned char* in, unsigned char* out, int total_pixels, int b) {\n",
        "\n",
        "\tint position = blockIdx.x * blockDim.x + threadIdx.x;\n",
        "\n",
        "\tif (position < total_pixels)\n",
        "\t{\n",
        "    if (in[position] <= b)\n",
        "      out[position]=0;\n",
        "    else\n",
        "      out[position]=255;\n",
        "\t}  \n",
        "}\n",
        "\n",
        "\n",
        "int main()\n",
        "{\n",
        "\n",
        "  string imname;\n",
        "\tcout << \"Enter image name:\";\n",
        "\tgetline (cin, imname);\n",
        "\n",
        "  int b;\n",
        "  char trash;\n",
        "\tcout << \"Enter threshold boundary:\";\n",
        "\tscanf(\"%d\", &b);\n",
        "  scanf(\"%c\", &trash);\n",
        "\n",
        "  if(b<0) b=0;\n",
        "  if(b>255) b=255;\n",
        "\n",
        "\tMat img = imread(imname,IMREAD_COLOR);\n",
        "\tSize s = img.size();\n",
        "\tint w = s.width;\n",
        "\tint h = s.height;\n",
        "\tMat img_invert(h, w, CV_8UC3, Scalar(0,0,0));\n",
        "\n",
        "\tunsigned char* char_img = img.data;\n",
        "\tunsigned char* new_img = img_invert.data;\n",
        "\n",
        "\tint u_char_size = h * w * 3 * sizeof(unsigned char);\n",
        "\n",
        "\tunsigned char *ar_img, *ar_img_inv;\n",
        "\n",
        "\tint vec_size = h * w * 3;\n",
        "\tint block_count = (vec_size + tpb - 1)/tpb;\n",
        "\n",
        "\tcudaMalloc((void**) &ar_img, u_char_size);\n",
        "\tcudaMalloc((void**) &ar_img_inv, u_char_size);\n",
        "\n",
        "\tcudaMemcpy(ar_img, char_img, u_char_size, cudaMemcpyHostToDevice);\n",
        "\tcudaMemcpy(ar_img_inv, new_img, u_char_size, cudaMemcpyHostToDevice);\n",
        "\n",
        "\tThreshold<<<block_count, tpb>>>  (ar_img, ar_img_inv, vec_size, b);\n",
        "\n",
        "\tcudaMemcpy(char_img, ar_img, u_char_size, cudaMemcpyDeviceToHost);\n",
        "\tcudaMemcpy(new_img, ar_img_inv, u_char_size, cudaMemcpyDeviceToHost);\n",
        "\n",
        "\tcudaFree(ar_img);\n",
        "\tcudaFree(ar_img_inv);\n",
        "   \n",
        "\tcout << \"Enter output name:\";\n",
        "\tgetline (cin, imname);\n",
        "\tMat output = Mat(h, w, CV_8UC3, new_img);\n",
        "\timwrite(imname, output);\n",
        "}"
      ],
      "metadata": {
        "colab": {
          "base_uri": "https://localhost:8080/"
        },
        "id": "POcEtlQF48sX",
        "outputId": "6abf8491-5f0e-4b36-f0fe-30459d36f99a"
      },
      "execution_count": 14,
      "outputs": [
        {
          "output_type": "stream",
          "name": "stdout",
          "text": [
            "Writing thresh.cu\n"
          ]
        }
      ]
    },
    {
      "cell_type": "code",
      "source": [
        "%%shell\n",
        "\n",
        "nvcc thresh.cu `pkg-config opencv --cflags --libs` -o thresh"
      ],
      "metadata": {
        "colab": {
          "base_uri": "https://localhost:8080/"
        },
        "id": "exzf5F7QHQpz",
        "outputId": "19bbbc63-a23c-465e-9270-1ec279dd4d77"
      },
      "execution_count": null,
      "outputs": [
        {
          "output_type": "execute_result",
          "data": {
            "text/plain": [
              ""
            ]
          },
          "metadata": {},
          "execution_count": 5
        }
      ]
    },
    {
      "cell_type": "code",
      "source": [
        "%%shell\n",
        "./thresh"
      ],
      "metadata": {
        "colab": {
          "base_uri": "https://localhost:8080/"
        },
        "id": "ZfgoE16FHXGv",
        "outputId": "b74ed1c1-d6d9-4f4b-f76f-26880dc7ca15"
      },
      "execution_count": null,
      "outputs": [
        {
          "output_type": "stream",
          "name": "stdout",
          "text": [
            "Enter image name:911.jpg\n",
            "Enter threshold boundary:128\n",
            "Enter output name:oo.jpg\n"
          ]
        },
        {
          "output_type": "execute_result",
          "data": {
            "text/plain": [
              ""
            ]
          },
          "metadata": {},
          "execution_count": 6
        }
      ]
    },
    {
      "cell_type": "code",
      "source": [
        "%%writefile sobel_single.cpp\n",
        "\n",
        "#include <stdio.h>\n",
        "#include <iostream>\n",
        "#include<time.h>\n",
        "#include <opencv2/core/core.hpp>\n",
        "#include <opencv2/highgui/highgui.hpp>\n",
        "#include <opencv2/imgproc/imgproc.hpp>\n",
        "\n",
        "#define tpb 128\n",
        "\n",
        "using namespace cv;\n",
        "using namespace std;\n",
        "\n",
        "\n",
        "int main()\n",
        "{\n",
        "  clock_t start, stop;\n",
        "  string imname;\n",
        "\tcout << \"Enter image name:\";\n",
        "\tgetline (cin, imname);\n",
        "\n",
        "\tMat img = imread(imname,IMREAD_COLOR);\n",
        "\tSize s = img.size();\n",
        "\tint w = s.width;\n",
        "\tint h = s.height;\n",
        "\n",
        "\tMat img_sobel(h, w, CV_8UC3, Scalar(0,0,0));\n",
        "\n",
        "\tunsigned char* ar_img = img.data;\n",
        "\tunsigned char* ar_img_inv = img_sobel.data;\n",
        "\n",
        "\tint u_char_size = h * w * 3 * sizeof(unsigned char);\n",
        "\n",
        "\tint vec_size = h * w * 3;\n",
        "\tint block_count = ((vec_size + tpb - 1)/tpb) + 1;\n",
        "\n",
        "  int down = 3*w;\n",
        "  int up = vec_size - 3*w;\n",
        "  w = w*3;\n",
        "\n",
        "\t//Sobel<<<block_count, tpb>>>  (ar_img, ar_img_inv, vec_size, 3*w, down, up);\n",
        "  start = clock();\n",
        "  for(int i=0; i<vec_size; i++){\n",
        "      \n",
        "      if (i > down && i < up){\n",
        "        int rem = i%w;\n",
        "        if (rem > 2 && rem < w-3){\n",
        "          //find nearby positions\n",
        "          int up = i - w;\n",
        "          int down = i + w;\n",
        "          int left = i - 3;\n",
        "          int right = i + 3;\n",
        "          int upleft = i - w - 3;\n",
        "          int upright = i - w + 3;\n",
        "          int downleft = i + w - 3;\n",
        "          int downright = i + w + 3;\n",
        "\n",
        "          int tmp1 = -ar_img[upleft] + ar_img[upright] - 2*ar_img[left] + 2*ar_img[right] - ar_img[downleft] + ar_img[downright];\n",
        "          if(tmp1<0) tmp1=0;\n",
        "          if(tmp1>255) tmp1=255;\n",
        "\n",
        "          int tmp2 = ar_img[upleft] + 2*ar_img[up] + ar_img[upright] - ar_img[downleft] - 2*ar_img[down] - ar_img[downright];\n",
        "          if(tmp2<0) tmp2=0;\n",
        "          if(tmp2>255) tmp2=255;\n",
        "\n",
        "          ar_img_inv[i]=tmp1 + tmp2;\n",
        "\n",
        "        }\n",
        "        else {\n",
        "          ar_img_inv[i]=ar_img[i];\n",
        "        }\n",
        "      }\n",
        "      else {\n",
        "        ar_img_inv[i]=ar_img[i];\n",
        "      }\n",
        "  }\n",
        "  stop = clock();\n",
        "  cout << \"Enter output name:\";\n",
        "\tgetline (cin, imname);\n",
        "  w = w/3;\n",
        "\tMat output = Mat(h, w, CV_8UC3, ar_img_inv);\n",
        "\timwrite(imname, output);\n",
        "  cout << stop-start;\n",
        "\n",
        "  free(ar_img);\n",
        "\tfree(ar_img_inv);\n",
        "}"
      ],
      "metadata": {
        "colab": {
          "base_uri": "https://localhost:8080/"
        },
        "id": "O6nrT-i78a-g",
        "outputId": "3fb92007-32af-4d91-cd9d-069321e06c75"
      },
      "execution_count": 15,
      "outputs": [
        {
          "output_type": "stream",
          "name": "stdout",
          "text": [
            "Writing sobel_single.cpp\n"
          ]
        }
      ]
    },
    {
      "cell_type": "code",
      "source": [
        "%%shell\n",
        "\n",
        "g++ sobel_single.cpp `pkg-config opencv --cflags --libs` -o sobelsingle"
      ],
      "metadata": {
        "colab": {
          "base_uri": "https://localhost:8080/"
        },
        "id": "x1tZ_lLXCkSP",
        "outputId": "bdc75537-bd83-4ccc-dd43-63c79f3a141a"
      },
      "execution_count": null,
      "outputs": [
        {
          "output_type": "execute_result",
          "data": {
            "text/plain": [
              ""
            ]
          },
          "metadata": {},
          "execution_count": 2
        }
      ]
    },
    {
      "cell_type": "code",
      "source": [
        "%%shell\n",
        "./sobelsingle"
      ],
      "metadata": {
        "colab": {
          "base_uri": "https://localhost:8080/"
        },
        "id": "I3H_xDk_EI75",
        "outputId": "daec1ef6-91d9-4c1e-b2c6-a8f1f479df61"
      },
      "execution_count": null,
      "outputs": [
        {
          "output_type": "stream",
          "name": "stdout",
          "text": [
            "Enter image name:911.jpg\n",
            "Enter output name:outsingle.jpg\n",
            "34912"
          ]
        },
        {
          "output_type": "execute_result",
          "data": {
            "text/plain": [
              ""
            ]
          },
          "metadata": {},
          "execution_count": 3
        }
      ]
    }
  ]
}