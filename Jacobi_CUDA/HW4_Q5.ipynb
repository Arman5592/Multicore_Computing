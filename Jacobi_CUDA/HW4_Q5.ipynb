{
  "nbformat": 4,
  "nbformat_minor": 0,
  "metadata": {
    "colab": {
      "name": "Untitled0.ipynb",
      "provenance": []
    },
    "kernelspec": {
      "name": "python3",
      "display_name": "Python 3"
    },
    "language_info": {
      "name": "python"
    },
    "accelerator": "GPU",
    "gpuClass": "standard"
  },
  "cells": [
    {
      "cell_type": "markdown",
      "source": [
        "#a\n",
        "\n",
        "We used 'Unified Memory' in our code which you can learn about [here](https://developer.nvidia.com/blog/even-easier-introduction-cuda/)."
      ],
      "metadata": {
        "id": "NOq5mHis_L3B"
      }
    },
    {
      "cell_type": "code",
      "execution_count": 48,
      "metadata": {
        "colab": {
          "base_uri": "https://localhost:8080/"
        },
        "id": "HqmR9MshcOQN",
        "outputId": "c9896235-610d-4795-bbd6-33708deb31ea"
      },
      "outputs": [
        {
          "output_type": "stream",
          "name": "stdout",
          "text": [
            "Overwriting jacobi.cu\n"
          ]
        }
      ],
      "source": [
        "%%writefile jacobi.cu\n",
        "\n",
        "#include <iostream>\n",
        "#include <math.h>\n",
        "#include <sys/time.h>\n",
        "#include <time.h>\n",
        "#include <cuda_runtime.h>\n",
        "#include <stdio.h>\n",
        "\n",
        "#define n 100\n",
        "#define m 100\n",
        "#define tol 0.001\n",
        "\n",
        "using namespace std;\n",
        "\n",
        "double diffmax;\n",
        "\n",
        "// Kernel function\n",
        "__global__\n",
        "void updateTemp(double **t, double **tnew, double **diff)\n",
        "{\n",
        "  int j = blockIdx.x * blockDim.x + threadIdx.x;\n",
        "  int i = blockIdx.y * blockDim.y + threadIdx.y;\n",
        "  \n",
        "  //printf(\"i, j: %d, %d\\n\", i, j);\n",
        "  //printf(\"i: %d %d %d\\n\", blockDim.x, blockIdx.x, threadIdx.x);\n",
        "  //printf(\"j: %d %d %d\\n=============\\n\", blockDim.y, blockIdx.y, threadIdx.y);\n",
        "  \n",
        "  if (1 <= i && i <= m && 1 <= j && j <= n) {\n",
        "    tnew[i][j] = (t[i - 1][j] + t[i + 1][j] + t[i][j - 1] + t[i][j + 1]) / 4.0;\n",
        "    diff[i][j] = fabs(tnew[i][j] - t[i][j]);\n",
        "    \n",
        "    // copy new to old temperatures\n",
        "    t[i][j] = tnew[i][j];\n",
        "  }\n",
        "}\n",
        "\n",
        "int main(void)\n",
        "{\n",
        "  struct timeval startTime, stopTime;\n",
        "  long totalTime;\n",
        "  double **t, **tnew, **diff;\n",
        "\n",
        "  // Allocate Unified Memory – accessible from CPU or GPU\n",
        "  cudaMallocManaged(&t, (m + 2)*sizeof(double*));\n",
        "  for (int i = 0; i < m + 2; ++i)\n",
        "    cudaMallocManaged(&t[i], (n + 2)*sizeof(double));\n",
        "  cudaMallocManaged(&tnew, (m + 2)*sizeof(double*));\n",
        "  for (int i = 0; i < m + 2; ++i)\n",
        "    cudaMallocManaged(&tnew[i], (n + 2)*sizeof(double));\n",
        "  cudaMallocManaged(&diff, (m + 2)*sizeof(double*));\n",
        "  for (int i = 0; i < m + 2; ++i)\n",
        "    cudaMallocManaged(&diff[i], (n + 2)*sizeof(double));\n",
        "\n",
        "  for (int z = 0; z < 11; ++z) {\n",
        "    gettimeofday(&startTime, NULL);\n",
        "\n",
        "    // initialize x and y arrays on the host\n",
        "    for (int i = 0; i < m + 2; ++i)\n",
        "      for (int j = 0; j < n + 2; ++j)\n",
        "        t[i][j] = 30.0;\n",
        "    // fix boundary conditions\n",
        "    for (int i = 1; i <= m; ++i) {\n",
        "      t[i][0] = 10.0;\n",
        "      t[i][n + 1] = 140.0;\n",
        "    }\n",
        "    for (int j = 1; j <= n; ++j) {\n",
        "      t[0][j] = 20.0;\n",
        "      t[m + 1][j] = 100.0;\n",
        "    }\n",
        "\n",
        "    // main loop\n",
        "    int iter = 0;\n",
        "    diffmax = 1000000.0;\n",
        "    \n",
        "    int block_size = 25;\n",
        "    // Setup the execution configuration\n",
        "    dim3 dimGrid(m/block_size, n/block_size);\n",
        "    dim3 dimBlock(block_size, block_size);\n",
        "    \n",
        "    while (diffmax > tol) {\n",
        "      ++iter;\n",
        "\n",
        "      // update temperature for next iteration\n",
        "      // Run kernel on 1M elements on the GPU\n",
        "      updateTemp<<<dimGrid, dimBlock>>>(t, tnew, diff);\n",
        "\n",
        "      // Wait for GPU to finish before accessing on host\n",
        "      cudaDeviceSynchronize();\n",
        "\n",
        "      // work out maximum difference between old and new temperatures\n",
        "      diffmax = 0.0;\n",
        "      for (int i = 1; i <= m; ++i)\n",
        "        for (int j = 1; j <= n; ++j)\n",
        "          if (diff[i][j] > diffmax)\n",
        "            diffmax = diff[i][j];\n",
        "    }\n",
        "\n",
        "    gettimeofday(&stopTime, NULL);\n",
        "    totalTime = (stopTime.tv_sec * 1000000 + stopTime.tv_usec) -\n",
        "                (startTime.tv_sec * 1000000 + startTime.tv_usec);\n",
        "\n",
        "    printf(\"%ld\\n\", totalTime);\n",
        "  }\n",
        "  // Free memory\n",
        "  for (int i = 0; i < m + 2; ++i) {\n",
        "    cudaFree(t[i]);\n",
        "    cudaFree(tnew[i]);\n",
        "    cudaFree(diff[i]);\n",
        "  }\n",
        "  cudaFree(t);\n",
        "  cudaFree(tnew);\n",
        "  cudaFree(diff);\n",
        "\n",
        "  return 0;\n",
        "}"
      ]
    },
    {
      "cell_type": "code",
      "source": [
        "%%shell\n",
        "\n",
        "nvcc jacobi.cu -o jacobi_cuda\n",
        "nvprof ./jacobi_cuda"
      ],
      "metadata": {
        "colab": {
          "base_uri": "https://localhost:8080/"
        },
        "id": "5d3ySnhecWI5",
        "outputId": "af8b6184-a4e9-4c46-832f-bf57bc76534e"
      },
      "execution_count": 49,
      "outputs": [
        {
          "output_type": "stream",
          "name": "stdout",
          "text": [
            "==1495== NVPROF is profiling process 1495, command: ./jacobi_cuda\n",
            "1844340\n",
            "2361654\n",
            "2059752\n",
            "2211834\n",
            "2504099\n",
            "4408898\n",
            "3162629\n",
            "2461164\n",
            "1996952\n",
            "1971743\n",
            "1910846\n",
            "==1495== Profiling application: ./jacobi_cuda\n",
            "==1495== Profiling result:\n",
            "            Type  Time(%)      Time     Calls       Avg       Min       Max  Name\n",
            " GPU activities:  100.00%  7.62332s     40315  189.09us  11.392us  19.188ms  updateTemp(double**, double**, double**)\n",
            "      API calls:   89.39%  8.59823s     40315  213.28us  3.7590us  27.502ms  cudaDeviceSynchronize\n",
            "                    7.13%  686.25ms     40315  17.022us  3.6540us  11.960ms  cudaLaunchKernel\n",
            "                    3.43%  330.37ms       309  1.0692ms  2.6270us  329.03ms  cudaMallocManaged\n",
            "                    0.04%  3.7375ms       309  12.095us  8.7030us  166.29us  cudaFree\n",
            "                    0.00%  345.65us         1  345.65us  345.65us  345.65us  cuDeviceTotalMem\n",
            "                    0.00%  150.28us       101  1.4870us     142ns  63.627us  cuDeviceGetAttribute\n",
            "                    0.00%  27.193us         1  27.193us  27.193us  27.193us  cuDeviceGetName\n",
            "                    0.00%  6.1650us         1  6.1650us  6.1650us  6.1650us  cuDeviceGetPCIBusId\n",
            "                    0.00%  1.6690us         3     556ns     251ns  1.1220us  cuDeviceGetCount\n",
            "                    0.00%  1.1940us         2     597ns     179ns  1.0150us  cuDeviceGet\n",
            "                    0.00%     247ns         1     247ns     247ns     247ns  cuDeviceGetUuid\n",
            "\n",
            "==1495== Unified Memory profiling result:\n",
            "Device \"Tesla T4 (0)\"\n",
            "   Count  Avg Size  Min Size  Max Size  Total Size  Total Time  Name\n",
            "  193933  6.3848KB  4.0000KB  112.00KB  1.180901GB  543.0904ms  Host To Device\n",
            "  266709  4.6416KB  4.0000KB  124.00KB  1.180855GB  478.2861ms  Device To Host\n",
            "  191279         -         -         -           -   7.259149s  Gpu page fault groups\n",
            "   17509         -         -         -           -   8.224652s  Page throttles\n",
            "  101464  4.0000KB  4.0000KB  4.0000KB  396.3438MB           -  Memory thrashes\n",
            "    2526  4.0000KB  4.0000KB  4.0000KB  9.867188MB           -  Remote mapping from device\n",
            "Total CPU Page faults: 183217\n",
            "Total CPU thrashes: 101464\n",
            "Total CPU throttles: 8318\n",
            "Total remote mappings to CPU: 2526\n"
          ]
        },
        {
          "output_type": "execute_result",
          "data": {
            "text/plain": [
              ""
            ]
          },
          "metadata": {},
          "execution_count": 49
        }
      ]
    },
    {
      "cell_type": "markdown",
      "source": [
        "#b"
      ],
      "metadata": {
        "id": "P8fecRBW_W00"
      }
    },
    {
      "cell_type": "code",
      "source": [
        "import matplotlib.pyplot as plt\n",
        "\n",
        "#           Type  Time(%)      Time     Calls       Avg       Min       Max  Name\n",
        "#1 GPU activities:  100.00%  13.9347s     41577  335.15us  81.022us  35.722ms  updateTemp(double**, double**, double**)\n",
        "#2 GPU activities:  100.00%  11.5856s     40487  286.16us  35.872us  11.004ms  updateTemp(double**, double**, double**)\n",
        "#5 GPU activities:  100.00%  9.69065s     40315  240.37us  17.919us  9.3763ms  updateTemp(double**, double**, double**)\n",
        "#10GPU activities:  100.00%  6.98655s     40315  173.30us  12.447us  8.9276ms  updateTemp(double**, double**, double**)\n",
        "#20GPU activities:  100.00%  6.82180s     40315  169.21us  10.560us  9.3243ms  updateTemp(double**, double**, double**)\n",
        "#25GPU activities:  100.00%  6.14425s     40315  152.41us  10.688us  10.913ms  updateTemp(double**, double**, double**)\n",
        "#\n",
        "\n",
        "first = [13.9347*1000, 11.5856*1000, 9.69065*1000, 6.98655*1000, 6.82180*1000, 6.14425*1000]\n",
        "\n",
        "x = [1, 2, 5, 10, 20, 25]\n",
        "\n",
        "# Plot lines with different marker sizes\n",
        "plt.plot(x, first, marker='s', ms=5, linewidth=1, color='darkorange') # square\n",
        "\n",
        "plt.ylabel('Average Execution Time (m, n = 100)',fontsize=12)\n",
        "\n",
        "plt.xlabel('block_size',fontsize=12)\n",
        "plt.yticks(fontsize=11)\n",
        "\n",
        "plt.xticks([1, 2, 5, 10, 20, 25], fontsize=12)\n",
        "plt.show()"
      ],
      "metadata": {
        "colab": {
          "base_uri": "https://localhost:8080/",
          "height": 290
        },
        "id": "MQm86XOm-whE",
        "outputId": "dfbc01e5-4a38-4cd9-95b2-46b2425fe3e8"
      },
      "execution_count": 51,
      "outputs": [
        {
          "output_type": "display_data",
          "data": {
            "text/plain": [
              "<Figure size 432x288 with 1 Axes>"
            ],
            "image/png": "[encoded data removed]"
          },
          "metadata": {
            "needs_background": "light"
          }
        }
      ]
    },
    {
      "cell_type": "markdown",
      "source": [
        "#c\n",
        "\n",
        "In OpenMP implementation we had 658000-676000 milli seconds of average execution time. Using CUDA numbers are much decreased (14000-6000 ms). The differance is huge."
      ],
      "metadata": {
        "id": "GpeCQUgQ_GD9"
      }
    },
    {
      "cell_type": "markdown",
      "source": [
        "#d\n",
        "\n",
        "We explained two reasons for our results on OpenMP implementation.\n",
        "\n",
        "Considering those problems with OpenMP, CUDA (using GPUs) solves the problems we had and significantly reduces execution time.\n",
        "\n",
        "On the other hand using bigger block_size gives us more parallelism doing so reduces execution time a lot."
      ],
      "metadata": {
        "id": "33dNR8p_AJgL"
      }
    }
  ]
}